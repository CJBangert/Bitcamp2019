{
  "cells": [
    {
      "cell_type": "markdown",
      "metadata": {
        "pycharm": {}
      },
      "source": [
        "# How To Run Automated Backtests in Research\n",
        "## Step 1: Import zipline libraries\n",
        "Research uses the zipline libraries instead of the default Quantopian ones. \n",
        "You must switch all your \u0027from quantopian\u0027 imports to \u0027from zipline\u0027, \u0027from zipline.api\u0027, etc. to run your code  "
      ]
    },
    {
      "cell_type": "code",
      "execution_count": 1,
      "metadata": {
        "pycharm": {}
      },
      "outputs": [
        {
          "ename": "SandboxViolation",
          "evalue": "Importing TradingAlgorithm from zipline raised an ImportError. No modules or attributes with a similar name were found.",
          "output_type": "error",
          "traceback": [
            "InputRejected:",
            "Importing TradingAlgorithm from zipline raised an ImportError. No modules or attributes with a similar name were found."
          ]
        }
      ],
      "source": "\nfrom zipline.api import order_target_percent\nimport pytz\nfrom datetime import datetime\nimport matplotlib.pyplot as pyplot\nfrom collections import defaultdict\n\nfrom zipline import TradingAlgorithm\nimport numpy as np\nimport pandas as pd\nfrom zipline.api import order, sid"
    },
    {
      "cell_type": "code",
      "execution_count": null,
      "metadata": {
        "pycharm": {}
      },
      "outputs": [],
      "source": []
    },
    {
      "cell_type": "code",
      "execution_count": null,
      "metadata": {
        "pycharm": {}
      },
      "outputs": [],
      "source": [
        "for i in range(0, 4):\n",
        "    print (\"This is number %s\" % i)"
      ]
    },
    {
      "cell_type": "markdown",
      "metadata": {
        "pycharm": {}
      },
      "source": [
        "## Step 2: Determine Variables\n",
        "Determine which variables are going to change from iteration to iteration. Put these variables in a global setting, when create new context variables that assign to these global variables.  "
      ]
    },
    {
      "cell_type": "code",
      "execution_count": null,
      "metadata": {
        "pycharm": {}
      },
      "outputs": [],
      "source": [
        "#: NOTICE HOW THIS IS OUTSIDE INITIALIZE, BECAUSE IT IS, WE CAN REDEFINE IT EVERYTIME WE REDINE INITIALIZE\n",
        "short_mavg_days \u003d 20\n",
        "long_mavg_days \u003d 50\n",
        "\n",
        "def initialize(context):\n",
        "    context.aapl \u003d 24\n",
        "    context.spy \u003d 8554\n",
        "    \n",
        "    # Set context parameters based on global parameters \n",
        "    context.short_mavg_days \u003d short_mavg_days\n",
        "    context.long_mavg_days \u003d long_mavg_days\n",
        "\n",
        "    # Used to warm-up moving averages\n",
        "    context.i \u003d 0"
      ]
    },
    {
      "cell_type": "markdown",
      "metadata": {
        "pycharm": {}
      },
      "source": [
        "## Step 3: Creating handle_data\n",
        "Perhaps the biggest change from the Quantopian IDE to using research books is the shift from pipelines to using the handle_data(context, data) function. This function takes in all historical data such that back-testing can take place."
      ]
    },
    {
      "cell_type": "code",
      "execution_count": null,
      "metadata": {
        "pycharm": {}
      },
      "outputs": [],
      "source": [
        "def handle_data(context, data):\n",
        "    \n",
        "    # Skip days to get full windows\n",
        "    context.i +\u003d 1\n",
        "    if context.i \u003c context.long_mavg_days:\n",
        "        return\n",
        "    \n",
        "    sym \u003d [sid(context.aapl)]\n",
        "    \n",
        "    # Compute averages\n",
        "    # history() has to be called with the same params\n",
        "    # from above and returns a pandas dataframe.\n",
        "    short_mavg \u003d data.history(sym, bar_count\u003dcontext.short_mavg_days, frequency\u003d\u00271d\u0027, fields\u003d\u0027price\u0027).mean()\n",
        "    long_mavg \u003d data.history(sym, bar_count\u003dcontext.long_mavg_days, frequency\u003d\u00271d\u0027, fields\u003d\u0027price\u0027).mean()\n",
        "\n",
        "    \n",
        "\n",
        "    # Trading logic\n",
        "    if short_mavg[context.aapl] \u003e long_mavg[context.aapl]:\n",
        "        # order_target orders as many shares as needed to\n",
        "        # achieve the desired number of shares.\n",
        "        order_target_percent(sid(context.aapl), 1)\n",
        "    elif short_mavg[context.aapl] \u003c long_mavg[context.aapl]:\n",
        "        order_target_percent(sid(context.aapl), 0)"
      ]
    },
    {
      "cell_type": "markdown",
      "metadata": {
        "pycharm": {}
      },
      "source": [
        "## Step 4: Gathering the Stock Data\n",
        "Because we no longer have access to pipelines, we must find all the stock data beforehand and save it to a variable"
      ]
    },
    {
      "cell_type": "code",
      "execution_count": null,
      "metadata": {
        "pycharm": {}
      },
      "outputs": [],
      "source": [
        "data \u003d get_pricing(\n",
        "    [\u0027AAPL\u0027,\u0027SPY\u0027],\n",
        "    start_date\u003d\u00272014-01-01\u0027,\n",
        "    end_date \u003d \u00272015-02-15\u0027,\n",
        "    frequency\u003d\u0027daily\u0027\n",
        ")"
      ]
    },
    {
      "cell_type": "markdown",
      "metadata": {
        "pycharm": {}
      },
      "source": [
        "## Step 5: Create the TradingAlgorithm object"
      ]
    },
    {
      "cell_type": "code",
      "execution_count": null,
      "metadata": {
        "pycharm": {}
      },
      "outputs": [],
      "source": [
        "algo_obj \u003d TradingAlgorithm(\n",
        "    initialize\u003dinitialize, \n",
        "    handle_data\u003dhandle_data\n",
        ")"
      ]
    },
    {
      "cell_type": "markdown",
      "metadata": {
        "pycharm": {}
      },
      "source": [
        "## Step 6: Run and Calculate Metrics\n",
        "All trading metrics (such as the Sharpe ratio) will have to be calculated manually."
      ]
    },
    {
      "cell_type": "code",
      "execution_count": null,
      "metadata": {
        "pycharm": {}
      },
      "outputs": [],
      "source": [
        "#: Run the backtest and save the result.\n",
        "perf_manual \u003d algo_obj.run(data.transpose(2,1,0))\n",
        "\n",
        "#: Get the sharpe ratio\n",
        "sharpe \u003d (perf_manual.returns.mean()*252)/(perf_manual.returns.std() * np.sqrt(252))\n",
        "print \"The Sharpe ratio is %0.6f\" % sharpe"
      ]
    },
    {
      "cell_type": "markdown",
      "metadata": {
        "pycharm": {}
      },
      "source": [
        "## Step 7: Iteration\n",
        "Turn steps 5 and 6 into a loop. Cut-paste the \"initialize\" function into the loop and set the context variables to a different value on each iteration. Store the results."
      ]
    },
    {
      "cell_type": "code",
      "execution_count": null,
      "metadata": {
        "pycharm": {}
      },
      "outputs": [],
      "source": [
        "# This will create a list with 9 entries\n",
        "short_mavg_days \u003d [days for days in np.arange(5, 40, 5)]\n",
        "# This will create a list with 40 entries\n",
        "long_mavg_days \u003d [days for days in np.arange(10, 50, 5)]\n",
        "\n",
        "#: Create a dictionary to hold all the results of our algorithm run\n",
        "all_sharpes \u003d defaultdict(dict)\n",
        "\n",
        "# Count the number of backtests run\n",
        "backtest_count \u003d 0\n",
        "\n",
        "# This will loop and run 324 backtests\n",
        "# Each backtest takes about 3 seconds, so this will take around 16 minutes\n",
        "for short_mavg_day in short_mavg_days:\n",
        "    for long_mavg_day in long_mavg_days:\n",
        "        # Only consider cases where the short is less than long.. but why this not working?\n",
        "        if short_mavg_day \u003c long_mavg_day:\n",
        "            \n",
        "            #: Redefine initialize with new weights\n",
        "            def initialize(context):\n",
        "                context.aapl \u003d 24\n",
        "    \n",
        "                # Set context parameters based on global parameters \n",
        "                context.short_mavg_days \u003d short_mavg_day\n",
        "                context.long_mavg_days \u003d long_mavg_day\n",
        "\n",
        "                # Used to warm-up moving averages\n",
        "                context.i \u003d 0  \n",
        "      \n",
        "            algo_obj \u003d TradingAlgorithm(\n",
        "                initialize\u003dinitialize, \n",
        "                handle_data\u003dhandle_data\n",
        "            )\n",
        "            perf_manual \u003d algo_obj.run(data.transpose(2,1,0))\n",
        "            \n",
        "            # Keep track of how many backtests were run\n",
        "            backtest_count +\u003d 1\n",
        "            print(\"Backtest {0} completed...\").format(backtest_count)\n",
        "            \n",
        "            # Calculate the sharpe for this backtest\n",
        "            sharpe \u003d (perf_manual.returns.mean()*252)/(perf_manual.returns.std() * np.sqrt(252))\n",
        "        \n",
        "            #: Add the result to our dict\n",
        "            all_sharpes[short_mavg_day][long_mavg_day] \u003d sharpe\n",
        "\n",
        "print \" \"\n",
        "print \"All backtest simulations completed!\"\n",
        "print \" \""
      ]
    },
    {
      "cell_type": "markdown",
      "metadata": {
        "pycharm": {}
      },
      "source": [
        "## Step 8: Aggregation\n",
        "Display the results in a readable and easy-to-consume manner"
      ]
    },
    {
      "cell_type": "code",
      "execution_count": null,
      "metadata": {
        "pycharm": {}
      },
      "outputs": [],
      "source": [
        "all_sharpes \u003d pd.DataFrame(all_sharpes)\n",
        "all_sharpes.index.name \u003d \"Long Moving Average Days\"\n",
        "all_sharpes.columns.name \u003d \"Short Moving Average Days\"\n",
        "\n",
        "all_sharpes"
      ]
    },
    {
      "cell_type": "code",
      "execution_count": null,
      "metadata": {
        "pycharm": {}
      },
      "outputs": [],
      "source": [
        "import matplotlib.pyplot as pyplot\n",
        "\n",
        "def heat_map(df):\n",
        "    \"\"\"\n",
        "    This creates our heatmap using our sharpe ratio dataframe\n",
        "    \"\"\"\n",
        "    fig \u003d pyplot.figure()\n",
        "    ax \u003d fig.add_subplot(111)\n",
        "    axim \u003d ax.imshow(df.values,cmap \u003d pyplot.get_cmap(\u0027RdYlGn\u0027), interpolation \u003d \u0027nearest\u0027)\n",
        "    ax.set_xlabel(df.columns.name)\n",
        "    ax.set_xticks(np.arange(len(df.columns)))\n",
        "    ax.set_xticklabels(list(df.columns))\n",
        "    ax.set_ylabel(df.index.name)\n",
        "    ax.set_yticks(np.arange(len(df.index)))\n",
        "    ax.set_yticklabels(list(df.index))\n",
        "    ax.set_title(\"Sharpe Ratios\")\n",
        "    pyplot.colorbar(axim)\n",
        "    \n",
        "#: Plot our heatmap\n",
        "heat_map(all_sharpes)"
      ]
    },
    {
      "cell_type": "code",
      "execution_count": null,
      "metadata": {
        "pycharm": {}
      },
      "outputs": [],
      "source": []
    }
  ],
  "metadata": {
    "kernelspec": {
      "display_name": "Python 2",
      "language": "python",
      "name": "python2"
    }
  },
  "nbformat": 4,
  "nbformat_minor": 2
}