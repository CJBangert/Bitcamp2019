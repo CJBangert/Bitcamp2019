{
 "cells": [
  {
   "cell_type": "markdown",
   "metadata": {},
   "source": [
    "# How To Run Automated Backtests in Research\n",
    "## Step 1: Import zipline libraries\n",
    "Research uses the zipline libraries instead of the default Quantopian ones. \n",
    "You must switch all your 'from quantopian' imports to 'from zipline', 'from zipline.api', etc. to run your code  "
   ]
  },
  {
   "cell_type": "code",
   "execution_count": 1,
   "metadata": {},
   "outputs": [
    {
     "ename": "SandboxViolation",
     "evalue": "Importing TradingAlgorithm from zipline raised an ImportError. No modules or attributes with a similar name were found.",
     "output_type": "error",
     "traceback": [
      "InputRejected:",
      "Importing TradingAlgorithm from zipline raised an ImportError. No modules or attributes with a similar name were found."
     ]
    }
   ],
   "source": [
    "import zipline\n",
    "from zipline.api import order_target_percent\n",
    "import pytz\n",
    "from datetime import datetime\n",
    "import matplotlib.pyplot as pyplot\n",
    "from collections import defaultdict\n",
    "\n",
    "from zipline import TradingAlgorithm\n",
    "from zipline.api import order_target, record, symbol, history\n",
    "import numpy as np\n",
    "import pandas as pd\n",
    "from zipline.api import order, sid"
   ]
  },
  {
   "cell_type": "code",
   "execution_count": null,
   "metadata": {},
   "outputs": [],
   "source": []
  },
  {
   "cell_type": "code",
   "execution_count": null,
   "metadata": {},
   "outputs": [],
   "source": [
    "for i in range(0, 4):\n",
    "    print (\"This is number %s\" % i)"
   ]
  },
  {
   "cell_type": "markdown",
   "metadata": {},
   "source": [
    "## Step 2: Determine Variables\n",
    "Determine which variables are going to change from iteration to iteration. Put these variables in a global setting, when create new context variables that assign to these global variables.  "
   ]
  },
  {
   "cell_type": "code",
   "execution_count": null,
   "metadata": {},
   "outputs": [],
   "source": [
    "#: NOTICE HOW THIS IS OUTSIDE INITIALIZE, BECAUSE IT IS, WE CAN REDEFINE IT EVERYTIME WE REDINE INITIALIZE\n",
    "short_mavg_days = 20\n",
    "long_mavg_days = 50\n",
    "\n",
    "def initialize(context):\n",
    "    context.aapl = 24\n",
    "    context.spy = 8554\n",
    "    \n",
    "    # Set context parameters based on global parameters \n",
    "    context.short_mavg_days = short_mavg_days\n",
    "    context.long_mavg_days = long_mavg_days\n",
    "\n",
    "    # Used to warm-up moving averages\n",
    "    context.i = 0"
   ]
  },
  {
   "cell_type": "markdown",
   "metadata": {},
   "source": [
    "## Step 3: Creating handle_data\n",
    "Perhaps the biggest change from the Quantopian IDE to using research books is the shift from pipelines to using the handle_data(context, data) function. This function takes in all historical data such that back-testing can take place."
   ]
  },
  {
   "cell_type": "code",
   "execution_count": null,
   "metadata": {},
   "outputs": [],
   "source": [
    "def handle_data(context, data):\n",
    "    \n",
    "    # Skip days to get full windows\n",
    "    context.i += 1\n",
    "    if context.i < context.long_mavg_days:\n",
    "        return\n",
    "    \n",
    "    sym = [sid(context.aapl)]\n",
    "    \n",
    "    # Compute averages\n",
    "    # history() has to be called with the same params\n",
    "    # from above and returns a pandas dataframe.\n",
    "    short_mavg = data.history(sym, bar_count=context.short_mavg_days, frequency='1d', fields='price').mean()\n",
    "    long_mavg = data.history(sym, bar_count=context.long_mavg_days, frequency='1d', fields='price').mean()\n",
    "\n",
    "    \n",
    "\n",
    "    # Trading logic\n",
    "    if short_mavg[context.aapl] > long_mavg[context.aapl]:\n",
    "        # order_target orders as many shares as needed to\n",
    "        # achieve the desired number of shares.\n",
    "        order_target_percent(sid(context.aapl), 1)\n",
    "    elif short_mavg[context.aapl] < long_mavg[context.aapl]:\n",
    "        order_target_percent(sid(context.aapl), 0)"
   ]
  },
  {
   "cell_type": "markdown",
   "metadata": {},
   "source": [
    "## Step 4: Gathering the Stock Data\n",
    "Because we no longer have access to pipelines, we must find all the stock data beforehand and save it to a variable"
   ]
  },
  {
   "cell_type": "code",
   "execution_count": null,
   "metadata": {},
   "outputs": [],
   "source": [
    "data = get_pricing(\n",
    "    ['AAPL','SPY'],\n",
    "    start_date='2014-01-01',\n",
    "    end_date = '2015-02-15',\n",
    "    frequency='daily'\n",
    ")"
   ]
  },
  {
   "cell_type": "markdown",
   "metadata": {},
   "source": [
    "## Step 5: Create the TradingAlgorithm object"
   ]
  },
  {
   "cell_type": "code",
   "execution_count": null,
   "metadata": {},
   "outputs": [],
   "source": [
    "algo_obj = TradingAlgorithm(\n",
    "    initialize=initialize, \n",
    "    handle_data=handle_data\n",
    ")"
   ]
  },
  {
   "cell_type": "markdown",
   "metadata": {},
   "source": [
    "## Step 6: Run and Calculate Metrics\n",
    "All trading metrics (such as the Sharpe ratio) will have to be calculated manually."
   ]
  },
  {
   "cell_type": "code",
   "execution_count": null,
   "metadata": {},
   "outputs": [],
   "source": [
    "#: Run the backtest and save the result.\n",
    "perf_manual = algo_obj.run(data.transpose(2,1,0))\n",
    "\n",
    "#: Get the sharpe ratio\n",
    "sharpe = (perf_manual.returns.mean()*252)/(perf_manual.returns.std() * np.sqrt(252))\n",
    "print \"The Sharpe ratio is %0.6f\" % sharpe"
   ]
  },
  {
   "cell_type": "markdown",
   "metadata": {},
   "source": [
    "## Step 7: Iteration\n",
    "Turn steps 5 and 6 into a loop. Cut-paste the \"initialize\" function into the loop and set the context variables to a different value on each iteration. Store the results."
   ]
  },
  {
   "cell_type": "code",
   "execution_count": null,
   "metadata": {},
   "outputs": [],
   "source": [
    "# This will create a list with 9 entries\n",
    "short_mavg_days = [days for days in np.arange(5, 40, 5)]\n",
    "# This will create a list with 40 entries\n",
    "long_mavg_days = [days for days in np.arange(10, 50, 5)]\n",
    "\n",
    "#: Create a dictionary to hold all the results of our algorithm run\n",
    "all_sharpes = defaultdict(dict)\n",
    "\n",
    "# Count the number of backtests run\n",
    "backtest_count = 0\n",
    "\n",
    "# This will loop and run 324 backtests\n",
    "# Each backtest takes about 3 seconds, so this will take around 16 minutes\n",
    "for short_mavg_day in short_mavg_days:\n",
    "    for long_mavg_day in long_mavg_days:\n",
    "        # Only consider cases where the short is less than long.. but why this not working?\n",
    "        if short_mavg_day < long_mavg_day:\n",
    "            \n",
    "            #: Redefine initialize with new weights\n",
    "            def initialize(context):\n",
    "                context.aapl = 24\n",
    "    \n",
    "                # Set context parameters based on global parameters \n",
    "                context.short_mavg_days = short_mavg_day\n",
    "                context.long_mavg_days = long_mavg_day\n",
    "\n",
    "                # Used to warm-up moving averages\n",
    "                context.i = 0  \n",
    "      \n",
    "            algo_obj = TradingAlgorithm(\n",
    "                initialize=initialize, \n",
    "                handle_data=handle_data\n",
    "            )\n",
    "            perf_manual = algo_obj.run(data.transpose(2,1,0))\n",
    "            \n",
    "            # Keep track of how many backtests were run\n",
    "            backtest_count += 1\n",
    "            print(\"Backtest {0} completed...\").format(backtest_count)\n",
    "            \n",
    "            # Calculate the sharpe for this backtest\n",
    "            sharpe = (perf_manual.returns.mean()*252)/(perf_manual.returns.std() * np.sqrt(252))\n",
    "        \n",
    "            #: Add the result to our dict\n",
    "            all_sharpes[short_mavg_day][long_mavg_day] = sharpe\n",
    "\n",
    "print \" \"\n",
    "print \"All backtest simulations completed!\"\n",
    "print \" \""
   ]
  },
  {
   "cell_type": "markdown",
   "metadata": {},
   "source": [
    "## Step 8: Aggregation\n",
    "Display the results in a readable and easy-to-consume manner"
   ]
  },
  {
   "cell_type": "code",
   "execution_count": null,
   "metadata": {},
   "outputs": [],
   "source": [
    "all_sharpes = pd.DataFrame(all_sharpes)\n",
    "all_sharpes.index.name = \"Long Moving Average Days\"\n",
    "all_sharpes.columns.name = \"Short Moving Average Days\"\n",
    "\n",
    "all_sharpes"
   ]
  },
  {
   "cell_type": "code",
   "execution_count": null,
   "metadata": {},
   "outputs": [],
   "source": [
    "import matplotlib.pyplot as pyplot\n",
    "\n",
    "def heat_map(df):\n",
    "    \"\"\"\n",
    "    This creates our heatmap using our sharpe ratio dataframe\n",
    "    \"\"\"\n",
    "    fig = pyplot.figure()\n",
    "    ax = fig.add_subplot(111)\n",
    "    axim = ax.imshow(df.values,cmap = pyplot.get_cmap('RdYlGn'), interpolation = 'nearest')\n",
    "    ax.set_xlabel(df.columns.name)\n",
    "    ax.set_xticks(np.arange(len(df.columns)))\n",
    "    ax.set_xticklabels(list(df.columns))\n",
    "    ax.set_ylabel(df.index.name)\n",
    "    ax.set_yticks(np.arange(len(df.index)))\n",
    "    ax.set_yticklabels(list(df.index))\n",
    "    ax.set_title(\"Sharpe Ratios\")\n",
    "    pyplot.colorbar(axim)\n",
    "    \n",
    "#: Plot our heatmap\n",
    "heat_map(all_sharpes)"
   ]
  },
  {
   "cell_type": "code",
   "execution_count": null,
   "metadata": {},
   "outputs": [],
   "source": []
  }
 ],
 "metadata": {
  "kernelspec": {
   "display_name": "Python 2",
   "language": "python",
   "name": "python2"
  }
 },
 "nbformat": 4,
 "nbformat_minor": 2
}